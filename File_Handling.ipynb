{
  "nbformat": 4,
  "nbformat_minor": 0,
  "metadata": {
    "colab": {
      "provenance": []
    },
    "kernelspec": {
      "name": "python3",
      "display_name": "Python 3"
    },
    "language_info": {
      "name": "python"
    }
  },
  "cells": [
    {
      "cell_type": "markdown",
      "source": [
        "# FILE HANDLING\n"
      ],
      "metadata": {
        "id": "xD-Yy1pCSCtU"
      }
    },
    {
      "cell_type": "markdown",
      "source": [
        "1. What is the difference between interpreted and compiled languages?\n",
        "\n",
        " - compiled language > Source code is translated entirely into machine code by a compiler before it is run. The resulting machine code is then run directly by the system.Examples: C, C++.\n",
        "\n",
        " interpreted language > Source code is read and executed line-by-line by an interpreter at runtime.No separate machine code file is created; the interpreter runs the code directly.Examples: Python, JavaScript.\n",
        "\n",
        "2. What is exception handling in Python ?\n",
        "\n",
        " - Exception handling in Python is a way to gracefully handle errors that occur during the execution of a program, so your program doesn't crash unexpectedly.\n",
        "\n",
        "3. What is the purpose of the finally block in exception handling?\n",
        "\n",
        "-  The finally block is used to ensure that certain code always runs,  no matter what happens — whether an exception was raised or not.\n",
        " ~~~\n",
        " try:\n",
        "     x = int(input(\"Enter a number: \"))\n",
        "     y = 10 / x\n",
        " except ValueError:\n",
        "     print(\"Invalid input: not a number.\")\n",
        " finally:\n",
        " print(\"done\")\n",
        " ~~~\n",
        "4. What is logging in Python?\n",
        "\n",
        "- A Logging in Python is a way to track events that happen while your program runs. It helps you debug, monitor, and understand your program’s behavior without using print statements.Logging is a better alternative to print() for tracking program events\n",
        " ~~~\n",
        " import logging\n",
        " logging.basicConfig(filename=\"xyx.txt\",level=logging.INFO)\n",
        " ~~~\n",
        "\n",
        "5. What is the significance of the __del__ method in Python?\n",
        "\n",
        "- The __del__  method is a special method in Python called a destructor. It is automatically invoked when an object is about to be destroyed — i.e., when it is garbage collected.\n",
        "\n",
        "6. What is the difference between import and from ... import in Python?\n",
        "\n",
        "- Both import and from ... import are used to bring external modules or functions into your Python script, but they work differently.\n",
        "\n",
        "Use import when you want the whole module and clear, prefixed access.\n",
        "Use from ... import when you only need specific parts and want cleaner code.\n",
        "\n",
        "\n",
        "7. How can you handle multiple exceptions in Python?\n",
        "\n",
        "-  In Python, you can handle multiple exceptions using multiple except blocks, or by grouping exceptions in a single block.\n",
        "\n",
        "~~~\n",
        "try:\n",
        "    x = int(input(\"Enter a number: \"))\n",
        "    y = 10 / x\n",
        "except ValueError:\n",
        "    print(\"Invalid input: not a number.\")\n",
        "except ZeroDivisionError:\n",
        "    print(\"You can't divide by zero.\")\n",
        "~~~\n",
        "\n",
        "8. What is the purpose of the with statement when handling files in Python?\n",
        "\n",
        "-  The with statement in Python is used to simplify file handling by automatically opening and closing files — even if an error occurs.\n",
        "~~~\n",
        "with open(\"file.txt\",\"w\")as f:\n",
        "   f.write()\n",
        "~~~\n",
        "9. What is the difference between multithreading and multiprocessing?\n",
        "\n",
        " - multithreading: Runs multiple threads (smaller tasks) within the same process\n",
        "Threads share the same memory space.\n",
        " ~~~\n",
        " import threading\n",
        "\n",
        " def task():\n",
        "    print(\"Run\")\n",
        "\n",
        " t = threading.Thread(target=task)\n",
        "t.start()\n",
        " ~~~\n",
        "-  multiprocessing: Runs multiple processes, each with its own memory\n",
        "Bypasses the GIL, so tasks run in parallel.\n",
        "  ~~~\n",
        " import multiprocessing\n",
        "\n",
        " def task():\n",
        "    print(\"Run\")\n",
        "\n",
        " p = multiprocessing.Process(target=task)\n",
        " p.start()\n",
        " ~~~\n",
        "\n",
        "10. What are the advantages of using logging in a program?\n",
        "\n",
        "  - 1. Helps Debugging:\n",
        "Logging records detailed information about what the program is doing, making it easier to find and fix problems.\n",
        "\n",
        "   2. Keeps a Permanent Record:\n",
        "Logs can be saved to files, so you can review program activity even after it has finished running.\n",
        "\n",
        "  3. Provides Different Levels of Messages:\n",
        "You can categorize logs by importance (e.g., INFO, WARNING, ERROR), helping you focus on what matters most.\n",
        "\n",
        "   4. Better than Print Statements:\n",
        "Unlike print, logging can be turned on or off and can be configured to output to different places (files, consoles, etc.).\n",
        "\n",
        "11.What is memory management in Python?\n",
        "\n",
        "  - Memory management in Python refers to how the language allocates, uses, and frees up memory while your program runs.\n",
        "\n",
        "12. What are the basic steps involved in exception handling in Python?\n",
        "\n",
        " - Exception handling in Python is about managing errors so your program doesn’t crash unexpectedly:\n",
        "\n",
        "  try: Put the code that might cause an error inside a try block.\n",
        " ~~~\n",
        " try:\n",
        "  print(10/0)\n",
        " ~~~\n",
        " >Catch Exceptions with except: Each except handles a specific type of error\n",
        " ~~~\n",
        " except Exception as e:\n",
        "      print(\"error is\",e)\n",
        "~~~\n",
        "> finally: Use finally Block\n",
        "~~~\n",
        "finally:\n",
        "  print(\"this will run the code\")\n",
        "~~~\n",
        "all together:\n",
        "~~~\n",
        "try:\n",
        "  print(10/0)\n",
        "except ZeroDivisionError as e:\n",
        "  print(\"error is:\",e)\n",
        "finally:\n",
        "  print(\"this will run the code\")\n",
        "~~~\n",
        "\n",
        "13. Why is memory management important in Python?\n",
        "\n",
        "-  Memory management is important in Python because it helps ensure that your programs run efficiently and reliably.Memory management in Python is crucial because it keeps your program fast, stable, and resource-friendly by automatically managing how memory is used and freed.\n",
        "\n",
        "14. What is the role of try and except in exception handling?\n",
        "\n",
        " - try: Put the code that might cause an error inside a try block.\n",
        "  Catch Exceptions with except: Each except handles a specific type of error\n",
        "~~~\n",
        "try:\n",
        "  print(10/0)\n",
        "except ZeroDivisionError as e:\n",
        "  print(\"error is:\",e)\n",
        "finally:\n",
        "  print(\"this will run the code\")\n",
        "~~~\n",
        "\n",
        "15. How does Python's garbage collection system work?\n",
        "\n",
        "- Python’s garbage collection (GC) system automatically manages memory by removing objects that are no longer needed so that memory can be reused.\n",
        "\n",
        "16. What is the purpose of the else block in exception handling?\n",
        "\n",
        "- The else block in Python exception handling is used to run code only if no exceptions were raised in the try block.\n",
        "~~~\n",
        "try:\n",
        "    result = 10 / 2\n",
        "except ZeroDivisionError:\n",
        "    print(\"Cannot divide by zero.\")\n",
        "else:\n",
        "    print(\"Division successful! Result is\", result)\n",
        "~~~\n",
        "\n",
        "17. What are the common logging levels in Python?\n",
        "\n",
        " - Python’s logging module provides different logging levels to indicate the\n",
        "mportance of messages.\n",
        "\n",
        "> DEBUG: For detailed troubleshooting info\n",
        "\n",
        ">INFO: General operational messages\n",
        "\n",
        ">WARNING: Alerts about potential issues\n",
        "\n",
        ">ERROR: Serious problems that affect functionality\n",
        "\n",
        ">CRITICAL: Very severe errors causing program failure\n",
        "\n",
        "18. What is the difference between os.fork() and multiprocessing in Python ?\n",
        "\n",
        "-  os.fork():A low-level function available on Unix/Linux systems only.\n",
        "It creates a child process by duplicating the current process.\n",
        "Both parent and child processes continue running from the same point in the code.\n",
        "> multiprocessing Module:A high-level Python module for creating and managing separate processes.Works on all platforms (Windows, macOS, Linux).\n",
        "Provides easy-to-use classes like Process, Queue, Pool, etc.\n",
        "\n",
        "19.  What is the importance of closing a file in Python?\n",
        "\n",
        "- Closing a file in Python is important to ensure that your program uses system resources properly and does not lose data.\n",
        "\n",
        "20. What is the difference between file.read() and file.readline() in Python ?\n",
        "\n",
        "-  file.read():in this we can read the whole file in one go.\n",
        "~~~\n",
        "with open(\"file.txt\",\"r\")as f:\n",
        "   r=f.read()\n",
        "   print(r)\n",
        "~~~\n",
        "\n",
        "file.readline: in this we can read first line of our file.\n",
        "~~~\n",
        "with open(\"file.txt\",\"r\")as f:\n",
        "   r=f.readline()\n",
        "   print(r)\n",
        "~~~\n",
        "\n",
        "21. What is the logging module in Python used for ?\n",
        "\n",
        " - The logging module in Python is used to record messages that describe events happening in your program. It helps you track errors, monitor performance, and understand how your code is running — without using print() statements.\n",
        "\n",
        "22. What is the os module in Python used for in file handling?\n",
        "\n",
        "-  The os module is used to interact with the operating system. In file handling, it helps with:\n",
        "\n",
        ">Checking if files or directories exist: os.path.exists()\n",
        "\n",
        ">Creating directories: os.mkdir(), os.makedirs()\n",
        "\n",
        ">Listing contents of directories: os.listdir()\n",
        "\n",
        ">Deleting files or directories: os.remove(), os.rmdir()\n",
        "\n",
        ">Renaming or moving files: os.rename()\n",
        "\n",
        ">setting the current working directory: os.getcwd(), os.chdir()\n",
        "\n",
        ">Building platform-independent file paths: os.path.join()\n",
        "\n",
        "23. What are the challenges associated with memory management in Python?\n",
        "\n",
        "-  Poor memory management can lead to various issues such as memory leaks, fragmentation, excessive paging, and crashes, which indirectly degrade system performance and stability.\n",
        "\n",
        "24.  How do you raise an exception manually in Python?\n",
        "\n",
        "- In Python, we can raise an exception manually using the raise keyword.\n",
        "~~~\n",
        "class MyCustomError(Exception):\n",
        "    pass\n",
        "\n",
        "raise MyCustomError(\"Something custom went wrong\")\n",
        "~~~\n",
        "\n",
        "25. Why is it important to use multithreading in certain applications?\n",
        "\n",
        " - Multithreading is important in certain applications for several reasons:\n",
        "\n",
        "1. **Improved Responsiveness:** In applications with user interfaces or network operations, multithreading can prevent the application from freezing while waiting for a task to complete. One thread can handle the long-running task while another thread keeps the UI responsive.\n",
        "\n",
        "2. **Better Resource Utilization:** For I/O-bound tasks (tasks that spend a lot of time waiting for input/output operations, like reading from a file or network), multithreading allows the CPU to switch to another thread while one thread is waiting. This makes better use of available resources.\n",
        "\n",
        "3. **Simplified Design for Concurrent Tasks:** When an application needs to perform multiple tasks concurrently (like handling multiple client connections in a server), using separate threads for each task can simplify the program's structure and make it easier to manage.\n",
        "\n",
        "4. **Parallelism (in some cases):** Although Python's Global Interpreter Lock (GIL) limits true parallel execution of CPU-bound tasks in multiple threads on multi-core processors, multithreading can still provide a form of concurrency that is beneficial for I/O-bound operations. In other languages without a GIL, multithreading can achieve true parallelism for CPU-bound tasks\n",
        "\n"
      ],
      "metadata": {
        "id": "PiEERm2nSH-T"
      }
    },
    {
      "cell_type": "markdown",
      "source": [
        "#Practical Questions"
      ],
      "metadata": {
        "id": "0J2mgLO1V89a"
      }
    },
    {
      "cell_type": "code",
      "source": [
        "# 1. How can you open a file for writing in Python and write a string to it?\n",
        "\n",
        "with open(\"file.txt\",\"w\") as f:\n",
        "  f.write(\"Hey, my name is saksham\")\n",
        "  f.write(\"\\nI am in DA course\")"
      ],
      "metadata": {
        "id": "SYjPybGVV_ip"
      },
      "execution_count": 1,
      "outputs": []
    },
    {
      "cell_type": "code",
      "source": [
        "# 2. Write a Python program to read the contents of a file and print each line?\n",
        "\n",
        "with open(\"file.txt\",\"r\") as f:\n",
        "  print(f.read())"
      ],
      "metadata": {
        "colab": {
          "base_uri": "https://localhost:8080/"
        },
        "id": "NvCsdZdAWYyb",
        "outputId": "5153de8f-b60f-4967-98db-d79ca70e3e4f"
      },
      "execution_count": 2,
      "outputs": [
        {
          "output_type": "stream",
          "name": "stdout",
          "text": [
            "Hey, my name is saksham\n",
            "I am in DA course\n"
          ]
        }
      ]
    },
    {
      "cell_type": "code",
      "source": [
        "# 3. How would you handle a case where the file doesn't exist while trying to open it for reading?\n",
        "\n",
        "try:\n",
        "    with open(\"file_test.txt\",\"r\") as f:\n",
        "        r = f.read()\n",
        "        print(r)\n",
        "except FileNotFoundError as e:\n",
        "    print(\"error is:\",e)"
      ],
      "metadata": {
        "colab": {
          "base_uri": "https://localhost:8080/"
        },
        "id": "VJgBz5s7WYv6",
        "outputId": "693432c9-b769-43e0-f3f9-eccaaad62783"
      },
      "execution_count": 4,
      "outputs": [
        {
          "output_type": "stream",
          "name": "stdout",
          "text": [
            "error is: [Errno 2] No such file or directory: 'file_test.txt'\n"
          ]
        }
      ]
    },
    {
      "cell_type": "code",
      "source": [
        "# 4. Write a Python script that reads from one file and writes its content to another file?\n",
        "\n",
        "with open(\"file.txt\",\"r\")as f:\n",
        "  print(f.read())\n",
        "\n",
        "with open(\"file.txt\",\"r\") as firstfile:\n",
        "  with open(\"second_file.txt\",\"a\") as secondfile:\n",
        "    for line in firstfile:\n",
        "      secondfile.write(line)\n",
        "\n",
        "with open(\"second_file.txt\",\"r\")as f:\n",
        "  print(f.read())"
      ],
      "metadata": {
        "colab": {
          "base_uri": "https://localhost:8080/"
        },
        "id": "DoQGCAIpWYr9",
        "outputId": "a3105754-c136-4e27-fb3a-d110add3592a"
      },
      "execution_count": 5,
      "outputs": [
        {
          "output_type": "stream",
          "name": "stdout",
          "text": [
            "Hey, my name is saksham\n",
            "I am in DA course\n",
            "Hey, my name is saksham\n",
            "I am in DA course\n"
          ]
        }
      ]
    },
    {
      "cell_type": "code",
      "source": [
        "# 5. How would you catch and handle division by zero error in Python?\n",
        "\n",
        "try:\n",
        "  print(10/0)\n",
        "except ZeroDivisionError as e:\n",
        "  print(\"error is:\",e)"
      ],
      "metadata": {
        "colab": {
          "base_uri": "https://localhost:8080/"
        },
        "id": "DA7YCaUzWYpZ",
        "outputId": "0c8fa169-d15c-4a74-dec6-da6430abbda9"
      },
      "execution_count": 6,
      "outputs": [
        {
          "output_type": "stream",
          "name": "stdout",
          "text": [
            "error is: division by zero\n"
          ]
        }
      ]
    },
    {
      "cell_type": "code",
      "source": [
        "# 6. Write a Python program that logs an error message to a log file when a division by zero exception occurs?\n",
        "\n",
        "import logging\n",
        "logging.basicConfig(filename='error.log', level=logging.ERROR)\n",
        "\n",
        "try:\n",
        "  result = 10 / 0\n",
        "except ZeroDivisionError as e:\n",
        "  logging.error(\"Division by zero error occurred: %s\", e)\n",
        "  print(\"An error occurred and has been logged.\")"
      ],
      "metadata": {
        "colab": {
          "base_uri": "https://localhost:8080/"
        },
        "id": "Op69yG3yWYm_",
        "outputId": "04ce9016-84fb-48e9-ff10-90f21649ee4c"
      },
      "execution_count": 7,
      "outputs": [
        {
          "output_type": "stream",
          "name": "stderr",
          "text": [
            "ERROR:root:Division by zero error occurred: division by zero\n"
          ]
        },
        {
          "output_type": "stream",
          "name": "stdout",
          "text": [
            "An error occurred and has been logged.\n"
          ]
        }
      ]
    },
    {
      "cell_type": "code",
      "source": [
        "# 7. How do you log information at different levels (INFO, ERROR, WARNING) in Python using the logging module?\n",
        "\n",
        "import logging\n",
        "logging.basicConfig(filename=\"test_log.txt\",level=logging.INFO)\n",
        "\n",
        "logging.info(\"this is info message\")\n",
        "logging.error(\"this is error message\")\n",
        "logging.warning(\"this is last warning\")\n",
        "\n",
        "logging.shutdown()\n"
      ],
      "metadata": {
        "colab": {
          "base_uri": "https://localhost:8080/"
        },
        "id": "wO51aDJ9WYka",
        "outputId": "343e6e56-5661-49e9-b65a-10afadec0cab"
      },
      "execution_count": 8,
      "outputs": [
        {
          "output_type": "stream",
          "name": "stderr",
          "text": [
            "ERROR:root:this is error message\n",
            "WARNING:root:this is last warning\n"
          ]
        }
      ]
    },
    {
      "cell_type": "code",
      "source": [
        "# 8.  Write a program to handle a file opening error using exception handling?\n",
        "\n",
        "try:\n",
        "  with open(\"test.txt\",\"r\") as f:\n",
        "    r = f.read()\n",
        "    print(r)\n",
        "except FileNotFoundError as e:\n",
        "  print(\"error is:\",e)"
      ],
      "metadata": {
        "colab": {
          "base_uri": "https://localhost:8080/"
        },
        "id": "bo1m6JDCWYh0",
        "outputId": "def218f2-29de-4335-8f47-c56417d3613c"
      },
      "execution_count": 9,
      "outputs": [
        {
          "output_type": "stream",
          "name": "stdout",
          "text": [
            "error is: [Errno 2] No such file or directory: 'test.txt'\n"
          ]
        }
      ]
    },
    {
      "cell_type": "code",
      "source": [
        "# 9. How can you read a file line by line and store its content in a list in Python?\n",
        "\n",
        "with open(\"file.txt\",\"r\")as f:\n",
        "  r=f.readlines()\n",
        "  print(r)"
      ],
      "metadata": {
        "colab": {
          "base_uri": "https://localhost:8080/"
        },
        "id": "dmKoK-DuWYe4",
        "outputId": "22d4ac83-8576-4cf2-b115-ffb81710c5c0"
      },
      "execution_count": 10,
      "outputs": [
        {
          "output_type": "stream",
          "name": "stdout",
          "text": [
            "['Hey, my name is saksham\\n', 'I am in DA course']\n"
          ]
        }
      ]
    },
    {
      "cell_type": "code",
      "source": [
        "# 10.  How can you append data to an existing file in Python?\n",
        "\n",
        "with open(\"file.txt\",\"a\")as f:\n",
        "  f.write(\"\\nmy fees is 30000\")"
      ],
      "metadata": {
        "id": "4rXOy34qWYcI"
      },
      "execution_count": 11,
      "outputs": []
    },
    {
      "cell_type": "code",
      "source": [
        "# 11. Write a Python program that uses a try-except block to handle an error when attempting to access a dictionary key that doesn't exist?\n",
        "\n",
        "try:\n",
        " data={\"name\":\"divya\",\"course\":\"DA\"}\n",
        " print(data[\"age\"])\n",
        "except KeyError as e:\n",
        "  print(\"here there is no key:\",e)"
      ],
      "metadata": {
        "colab": {
          "base_uri": "https://localhost:8080/"
        },
        "id": "Ilib8s3nWYZe",
        "outputId": "a5e2c592-d98b-4971-b940-b842d83ebf4b"
      },
      "execution_count": 12,
      "outputs": [
        {
          "output_type": "stream",
          "name": "stdout",
          "text": [
            "here there is no key: 'age'\n"
          ]
        }
      ]
    },
    {
      "cell_type": "code",
      "source": [
        "# 12. Write a program that demonstrates using multiple except blocks to handle different types of exceptions?\n",
        "\n",
        "try:\n",
        "  x=int(input(\"enter a number:\"))\n",
        "  print(10/x)\n",
        "\n",
        "except ZeroDivisionError as e:\n",
        "  print(\"error is:\",e)\n",
        "except ValueError as e:\n",
        "  print(\"error is:\",e)"
      ],
      "metadata": {
        "colab": {
          "base_uri": "https://localhost:8080/"
        },
        "id": "-ipybL8SWYWy",
        "outputId": "1d21ea9d-6f4c-4bb5-ee9e-6dc271397222"
      },
      "execution_count": 13,
      "outputs": [
        {
          "output_type": "stream",
          "name": "stdout",
          "text": [
            "enter a number:50\n",
            "0.2\n"
          ]
        }
      ]
    },
    {
      "cell_type": "code",
      "source": [
        "# 13.  How would you check if a file exists before attempting to read it in Python?\n",
        "\n",
        "import os\n",
        "if os.path.exists(\"file.txt\"):\n",
        "  print(\"file exixts:\")\n",
        "  with open(\"file.txt\",\"r\")as f:\n",
        "    r=f.read()\n",
        "    print(r)\n",
        "else:\n",
        "  print(\"file not found\")\n"
      ],
      "metadata": {
        "colab": {
          "base_uri": "https://localhost:8080/"
        },
        "id": "9H1n9svCWYUL",
        "outputId": "410ccca2-e200-439f-f63a-fe5f8bd83fe5"
      },
      "execution_count": 14,
      "outputs": [
        {
          "output_type": "stream",
          "name": "stdout",
          "text": [
            "file exixts:\n",
            "Hey, my name is saksham\n",
            "I am in DA course\n",
            "my fees is 30000\n"
          ]
        }
      ]
    },
    {
      "cell_type": "code",
      "source": [
        "# 14.  Write a program that uses the logging module to log both informational and error messages?\n",
        "\n",
        "import logging\n",
        "logging.basicConfig(filename=\"error.log\",level=logging.INFO)\n",
        "\n",
        "logging.info(\"this is informational message\")\n",
        "logging.error(\"this is error message\")\n",
        "\n",
        "logging.shutdown()"
      ],
      "metadata": {
        "colab": {
          "base_uri": "https://localhost:8080/"
        },
        "id": "grPh7751WYRh",
        "outputId": "e2495623-015e-488c-cf5e-e4ae562d508d"
      },
      "execution_count": 15,
      "outputs": [
        {
          "output_type": "stream",
          "name": "stderr",
          "text": [
            "ERROR:root:this is error message\n"
          ]
        }
      ]
    },
    {
      "cell_type": "code",
      "source": [
        "# 15. Write a Python program that prints the content of a file and handles the case when the file is empty?\n",
        "\n",
        "with open(\"empty.txt\",\"w\")as f:\n",
        " f.write(\"\")\n",
        "\n",
        "size = os.path.getsize(\"empty.txt\")\n",
        "\n",
        "if size==0:\n",
        "  print(\"file is empty\")\n",
        "else:\n",
        "  with open(\"empty.txt\",\"r\")as f:\n",
        "    r=f.read()\n",
        "    print(r)"
      ],
      "metadata": {
        "colab": {
          "base_uri": "https://localhost:8080/"
        },
        "id": "V8jOqnOPWYN7",
        "outputId": "bf653c71-2298-4779-c4cc-6ff59a0a13ff"
      },
      "execution_count": 16,
      "outputs": [
        {
          "output_type": "stream",
          "name": "stdout",
          "text": [
            "file is empty\n"
          ]
        }
      ]
    },
    {
      "cell_type": "code",
      "source": [
        "# 16. Demonstrate how to use memory profiling to check the memory usage of a small program?\n",
        "\n",
        "from memory_profiler import profile\n",
        "\n",
        "@profile\n",
        "def my_function():\n",
        "    a = [1] * 10\n",
        "    b = [2] * 20\n",
        "    return a, b\n",
        "\n",
        "my_function()"
      ],
      "metadata": {
        "colab": {
          "base_uri": "https://localhost:8080/"
        },
        "id": "KJlNO86MWYLa",
        "outputId": "1c8e6eae-1901-4426-dc50-a200bb460255"
      },
      "execution_count": 21,
      "outputs": [
        {
          "output_type": "stream",
          "name": "stdout",
          "text": [
            "ERROR: Could not find file /tmp/ipython-input-3177902851.py\n"
          ]
        },
        {
          "output_type": "execute_result",
          "data": {
            "text/plain": [
              "([1, 1, 1, 1, 1, 1, 1, 1, 1, 1],\n",
              " [2, 2, 2, 2, 2, 2, 2, 2, 2, 2, 2, 2, 2, 2, 2, 2, 2, 2, 2, 2])"
            ]
          },
          "metadata": {},
          "execution_count": 21
        }
      ]
    },
    {
      "cell_type": "code",
      "source": [
        "# 17.  Write a Python program to create and write a list of numbers to a file, one number per line\n",
        "\n",
        "data=[1,2,3,4,5,6]\n",
        "import csv\n",
        "\n",
        "with open(\"file_csv.csv\",\"w\")as f:\n",
        "  writer=csv.writer(f)\n",
        "  for num in data:\n",
        "   writer.writerow([num])\n",
        "\n",
        "with open(\"file_csv.csv\",\"r\")as f:\n",
        "  reader=csv.reader(f)\n",
        "  for row in reader:\n",
        "    print(row)"
      ],
      "metadata": {
        "colab": {
          "base_uri": "https://localhost:8080/"
        },
        "id": "tbUEPIbeWYG8",
        "outputId": "99b946a1-b15f-4000-d1d1-a591e6f3aaaa"
      },
      "execution_count": 22,
      "outputs": [
        {
          "output_type": "stream",
          "name": "stdout",
          "text": [
            "['1']\n",
            "['2']\n",
            "['3']\n",
            "['4']\n",
            "['5']\n",
            "['6']\n"
          ]
        }
      ]
    },
    {
      "cell_type": "code",
      "source": [
        "# 18. How would you implement a basic logging setup that logs to a file with rotation after 1MB?\n",
        "\n",
        "import logging\n",
        "from logging.handlers import RotatingFileHandler\n",
        "\n",
        "logging.basicConfig(filename=\"test_log.txt\",level=logging.INFO)\n",
        "\n",
        "logging.info(\"this is info message\")\n",
        "logging.error(\"this is error message\")\n",
        "logging.warning(\"this is last warning\")\n",
        "\n",
        "logging.shutdown()"
      ],
      "metadata": {
        "colab": {
          "base_uri": "https://localhost:8080/"
        },
        "id": "Y2D95AzfWYCi",
        "outputId": "8ad7b371-8c89-44d6-da8f-73a387bad002"
      },
      "execution_count": 23,
      "outputs": [
        {
          "output_type": "stream",
          "name": "stderr",
          "text": [
            "ERROR:root:this is error message\n",
            "WARNING:root:this is last warning\n"
          ]
        }
      ]
    },
    {
      "cell_type": "code",
      "source": [
        "# 19. Write a program that handles both IndexError and KeyError using a try-except block?\n",
        "\n",
        "try:\n",
        "  dic={\"name\":\"divya\",\"age\":20}\n",
        "  dic[\"course\"]\n",
        "  l1=[1,2,3,4]\n",
        "  l1[5]\n",
        "except (KeyError,IndexError) as e:\n",
        "  print(\"error is:\",e)\n"
      ],
      "metadata": {
        "colab": {
          "base_uri": "https://localhost:8080/"
        },
        "id": "9oQbXWAHWX94",
        "outputId": "9486bc4a-8a43-4052-b5ed-ea31c3cc8647"
      },
      "execution_count": 24,
      "outputs": [
        {
          "output_type": "stream",
          "name": "stdout",
          "text": [
            "error is: 'course'\n"
          ]
        }
      ]
    },
    {
      "cell_type": "code",
      "source": [
        "# 20. How would you open a file and read its contents using a context manager in Python?\n",
        "\n",
        "with open(\"file.txt\",\"r\")as f:\n",
        "  r=f.read()\n",
        "  print(r)"
      ],
      "metadata": {
        "colab": {
          "base_uri": "https://localhost:8080/"
        },
        "id": "Q4BJtXFYWX7R",
        "outputId": "60c1e58f-42bb-4edc-caa4-339b4d8faae4"
      },
      "execution_count": 25,
      "outputs": [
        {
          "output_type": "stream",
          "name": "stdout",
          "text": [
            "Hey, my name is saksham\n",
            "I am in DA course\n",
            "my fees is 30000\n"
          ]
        }
      ]
    },
    {
      "cell_type": "code",
      "source": [
        "# 21. Write a Python program that reads a file and prints the number of occurrences of a specific word?\n",
        "\n",
        "with open(\"file.txt\",\"r\")as f:\n",
        "  r=f.read()\n",
        "  print(r.count(\"divya\"))"
      ],
      "metadata": {
        "colab": {
          "base_uri": "https://localhost:8080/"
        },
        "id": "ATNWSqSIWX4q",
        "outputId": "f88be45a-c908-42e0-fbf9-18c355fa9bd3"
      },
      "execution_count": 26,
      "outputs": [
        {
          "output_type": "stream",
          "name": "stdout",
          "text": [
            "0\n"
          ]
        }
      ]
    },
    {
      "cell_type": "code",
      "source": [
        "# 22. How can you check if a file is empty before attempting to read its contents?\n",
        "\n",
        "import os\n",
        "size = os.path.getsize(\"file.txt\")\n",
        "\n",
        "if size==0:\n",
        "  print(\"file is empty\")\n",
        "else:\n",
        "  with open(\"file.txt\",\"r\")as f:\n",
        "    r=f.read()\n",
        "    print(\"this file is not empty:\\n\",r)"
      ],
      "metadata": {
        "colab": {
          "base_uri": "https://localhost:8080/"
        },
        "id": "_xD9eN1PWX2B",
        "outputId": "de6d20de-b8d0-49cc-e560-dfb015752105"
      },
      "execution_count": 27,
      "outputs": [
        {
          "output_type": "stream",
          "name": "stdout",
          "text": [
            "this file is not empty:\n",
            " Hey, my name is saksham\n",
            "I am in DA course\n",
            "my fees is 30000\n"
          ]
        }
      ]
    },
    {
      "cell_type": "code",
      "source": [
        "# 23. Write a Python program that writes to a log file when an error occurs during file handling.\n",
        "\n",
        "try:\n",
        "    with open(\"data.txt\", \"r\") as file:\n",
        "        c = file.read()\n",
        "        print(c)\n",
        "\n",
        "except Exception as e:\n",
        "    with open(\"error_log.txt\", \"a\") as log_file:\n",
        "        log_file.write(f\"Error: {str(e)}\\n\")\n",
        "\n",
        "# output:\n",
        "# Error: [Errno 2] No such file or directory: 'data.txt'"
      ],
      "metadata": {
        "id": "c9G4EWD4WXrC"
      },
      "execution_count": 28,
      "outputs": []
    }
  ]
}